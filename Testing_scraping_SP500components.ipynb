{
 "cells": [
  {
   "cell_type": "code",
   "execution_count": 13,
   "id": "99c19f7f",
   "metadata": {
    "scrolled": true
   },
   "outputs": [],
   "source": [
    "import bs4 as bs\n",
    "import requests\n",
    "import pandas as pd"
   ]
  },
  {
   "cell_type": "code",
   "execution_count": 8,
   "id": "cac3da9c",
   "metadata": {},
   "outputs": [],
   "source": [
    "# Get S&P500 Tickers from Wikipedia\n",
    "resp = requests.get('http://en.wikipedia.org/wiki/List_of_S%26P_500_companies')\n",
    "soup = bs.BeautifulSoup(resp.text, 'lxml')\n",
    "table = soup.find('table', {'class': 'wikitable sortable'})"
   ]
  },
  {
   "cell_type": "code",
   "execution_count": 14,
   "id": "35e7e9f1",
   "metadata": {},
   "outputs": [],
   "source": [
    "# Scrape the ticker and CIK columns from wikipedia\n",
    "tickers_wiki = []\n",
    "CIK_wiki = []\n",
    "\n",
    "for row in table.findAll('tr')[1:]:\n",
    "    ticker = row.findAll('td')[0].text.strip()\n",
    "    tickers_wiki.append(ticker)\n",
    "    CIK = row.findAll('td')[6].text.strip()\n",
    "    CIK_wiki.append(CIK)\n",
    "    \n",
    "sp500_component = pd.DataFrame({'tickers_wiki': tickers_wiki,\n",
    "                               'CIK_wiki':CIK_wiki })"
   ]
  },
  {
   "cell_type": "code",
   "execution_count": 16,
   "id": "8effa765",
   "metadata": {},
   "outputs": [],
   "source": [
    "# Export the DataFrame to a CSV file\n",
    "sp500_component.to_csv('sp500_component.csv', index=False)\n",
    "\n",
    "#sp500_component"
   ]
  }
 ],
 "metadata": {
  "kernelspec": {
   "display_name": "Python 3 (ipykernel)",
   "language": "python",
   "name": "python3"
  },
  "language_info": {
   "codemirror_mode": {
    "name": "ipython",
    "version": 3
   },
   "file_extension": ".py",
   "mimetype": "text/x-python",
   "name": "python",
   "nbconvert_exporter": "python",
   "pygments_lexer": "ipython3",
   "version": "3.11.3"
  }
 },
 "nbformat": 4,
 "nbformat_minor": 5
}
