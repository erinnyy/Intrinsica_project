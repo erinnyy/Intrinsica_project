{
 "cells": [
  {
   "cell_type": "markdown",
   "id": "3e6f0cd6",
   "metadata": {},
   "source": [
    "#### https://sec-api.io/\n",
    "#### my API Key\n",
    "#### af82be7d92bce26dff9df1b4de3329400777fe8232d6ac105222ba87cf78cb3c"
   ]
  },
  {
   "cell_type": "code",
   "execution_count": 1,
   "id": "ae69437c",
   "metadata": {},
   "outputs": [
    {
     "name": "stderr",
     "output_type": "stream",
     "text": [
      "/Users/erinyu/anaconda3/lib/python3.11/site-packages/pandas/core/arrays/masked.py:60: UserWarning: Pandas requires version '1.3.6' or newer of 'bottleneck' (version '1.3.5' currently installed).\n",
      "  from pandas.core import (\n"
     ]
    }
   ],
   "source": [
    "import pandas as pd"
   ]
  },
  {
   "cell_type": "code",
   "execution_count": 2,
   "id": "732edda2",
   "metadata": {},
   "outputs": [
    {
     "data": {
      "text/html": [
       "<div>\n",
       "<style scoped>\n",
       "    .dataframe tbody tr th:only-of-type {\n",
       "        vertical-align: middle;\n",
       "    }\n",
       "\n",
       "    .dataframe tbody tr th {\n",
       "        vertical-align: top;\n",
       "    }\n",
       "\n",
       "    .dataframe thead th {\n",
       "        text-align: right;\n",
       "    }\n",
       "</style>\n",
       "<table border=\"1\" class=\"dataframe\">\n",
       "  <thead>\n",
       "    <tr style=\"text-align: right;\">\n",
       "      <th></th>\n",
       "      <th>cik_str</th>\n",
       "      <th>ticker</th>\n",
       "      <th>title</th>\n",
       "    </tr>\n",
       "  </thead>\n",
       "  <tbody>\n",
       "    <tr>\n",
       "      <th>0</th>\n",
       "      <td>789019</td>\n",
       "      <td>MSFT</td>\n",
       "      <td>MICROSOFT CORP</td>\n",
       "    </tr>\n",
       "    <tr>\n",
       "      <th>1</th>\n",
       "      <td>320193</td>\n",
       "      <td>AAPL</td>\n",
       "      <td>Apple Inc.</td>\n",
       "    </tr>\n",
       "    <tr>\n",
       "      <th>2</th>\n",
       "      <td>1045810</td>\n",
       "      <td>NVDA</td>\n",
       "      <td>NVIDIA CORP</td>\n",
       "    </tr>\n",
       "    <tr>\n",
       "      <th>3</th>\n",
       "      <td>1018724</td>\n",
       "      <td>AMZN</td>\n",
       "      <td>AMAZON COM INC</td>\n",
       "    </tr>\n",
       "    <tr>\n",
       "      <th>4</th>\n",
       "      <td>1652044</td>\n",
       "      <td>GOOGL</td>\n",
       "      <td>Alphabet Inc.</td>\n",
       "    </tr>\n",
       "    <tr>\n",
       "      <th>...</th>\n",
       "      <td>...</td>\n",
       "      <td>...</td>\n",
       "      <td>...</td>\n",
       "    </tr>\n",
       "    <tr>\n",
       "      <th>10426</th>\n",
       "      <td>1131312</td>\n",
       "      <td>ZNOGW</td>\n",
       "      <td>ZION OIL &amp; GAS INC</td>\n",
       "    </tr>\n",
       "    <tr>\n",
       "      <th>10427</th>\n",
       "      <td>1826681</td>\n",
       "      <td>STRCW</td>\n",
       "      <td>Sarcos Technology &amp; Robotics Corp</td>\n",
       "    </tr>\n",
       "    <tr>\n",
       "      <th>10428</th>\n",
       "      <td>884614</td>\n",
       "      <td>UGIC</td>\n",
       "      <td>UGI CORP /PA/</td>\n",
       "    </tr>\n",
       "    <tr>\n",
       "      <th>10429</th>\n",
       "      <td>1923734</td>\n",
       "      <td>RKPPS</td>\n",
       "      <td>Ark7 Properties Plus LLC</td>\n",
       "    </tr>\n",
       "    <tr>\n",
       "      <th>10430</th>\n",
       "      <td>1923734</td>\n",
       "      <td>AFTWS</td>\n",
       "      <td>Ark7 Properties Plus LLC</td>\n",
       "    </tr>\n",
       "  </tbody>\n",
       "</table>\n",
       "<p>10431 rows × 3 columns</p>\n",
       "</div>"
      ],
      "text/plain": [
       "       cik_str ticker                              title\n",
       "0       789019   MSFT                     MICROSOFT CORP\n",
       "1       320193   AAPL                         Apple Inc.\n",
       "2      1045810   NVDA                        NVIDIA CORP\n",
       "3      1018724   AMZN                     AMAZON COM INC\n",
       "4      1652044  GOOGL                      Alphabet Inc.\n",
       "...        ...    ...                                ...\n",
       "10426  1131312  ZNOGW                 ZION OIL & GAS INC\n",
       "10427  1826681  STRCW  Sarcos Technology & Robotics Corp\n",
       "10428   884614   UGIC                      UGI CORP /PA/\n",
       "10429  1923734  RKPPS           Ark7 Properties Plus LLC\n",
       "10430  1923734  AFTWS           Ark7 Properties Plus LLC\n",
       "\n",
       "[10431 rows x 3 columns]"
      ]
     },
     "execution_count": 2,
     "metadata": {},
     "output_type": "execute_result"
    }
   ],
   "source": [
    "# create cik_ticker data frame\n",
    "# https://www.sec.gov/files/company_tickers.json\n",
    "# cik stand for central index key\n",
    "\n",
    "# Read JSON data into DataFrame\n",
    "# had issue reading the data directly from the sec link so had to save down .json first\n",
    "cki_ticker = pd.read_json('company_tickers.json')\n",
    "\n",
    "#print(cki_ticker)\n",
    "cki_ticker = cki_ticker.transpose()\n",
    "\n",
    "cki_ticker"
   ]
  }
 ],
 "metadata": {
  "kernelspec": {
   "display_name": "Python 3 (ipykernel)",
   "language": "python",
   "name": "python3"
  },
  "language_info": {
   "codemirror_mode": {
    "name": "ipython",
    "version": 3
   },
   "file_extension": ".py",
   "mimetype": "text/x-python",
   "name": "python",
   "nbconvert_exporter": "python",
   "pygments_lexer": "ipython3",
   "version": "3.11.3"
  }
 },
 "nbformat": 4,
 "nbformat_minor": 5
}
